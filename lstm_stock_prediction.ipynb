{
 "cells": [
  {
   "cell_type": "code",
   "execution_count": 186,
   "metadata": {},
   "outputs": [],
   "source": [
    "import pandas as pd"
   ]
  },
  {
   "cell_type": "code",
   "execution_count": 187,
   "metadata": {},
   "outputs": [],
   "source": [
    "df=pd.read_csv(r\"C:\\Users\\Asus\\Documents\\Stock-MArket-Forecasting\\AAPL.csv\")"
   ]
  },
  {
   "cell_type": "code",
   "execution_count": 188,
   "metadata": {},
   "outputs": [
    {
     "data": {
      "text/html": [
       "<div>\n",
       "<style scoped>\n",
       "    .dataframe tbody tr th:only-of-type {\n",
       "        vertical-align: middle;\n",
       "    }\n",
       "\n",
       "    .dataframe tbody tr th {\n",
       "        vertical-align: top;\n",
       "    }\n",
       "\n",
       "    .dataframe thead th {\n",
       "        text-align: right;\n",
       "    }\n",
       "</style>\n",
       "<table border=\"1\" class=\"dataframe\">\n",
       "  <thead>\n",
       "    <tr style=\"text-align: right;\">\n",
       "      <th></th>\n",
       "      <th>Unnamed: 0</th>\n",
       "      <th>symbol</th>\n",
       "      <th>date</th>\n",
       "      <th>close</th>\n",
       "      <th>high</th>\n",
       "      <th>low</th>\n",
       "      <th>open</th>\n",
       "      <th>volume</th>\n",
       "      <th>adjClose</th>\n",
       "      <th>adjHigh</th>\n",
       "      <th>adjLow</th>\n",
       "      <th>adjOpen</th>\n",
       "      <th>adjVolume</th>\n",
       "      <th>divCash</th>\n",
       "      <th>splitFactor</th>\n",
       "    </tr>\n",
       "  </thead>\n",
       "  <tbody>\n",
       "    <tr>\n",
       "      <td>0</td>\n",
       "      <td>0</td>\n",
       "      <td>AAPL</td>\n",
       "      <td>2015-05-27 00:00:00+00:00</td>\n",
       "      <td>132.045</td>\n",
       "      <td>132.260</td>\n",
       "      <td>130.05</td>\n",
       "      <td>130.34</td>\n",
       "      <td>45833246</td>\n",
       "      <td>121.682558</td>\n",
       "      <td>121.880685</td>\n",
       "      <td>119.844118</td>\n",
       "      <td>120.111360</td>\n",
       "      <td>45833246</td>\n",
       "      <td>0.0</td>\n",
       "      <td>1.0</td>\n",
       "    </tr>\n",
       "    <tr>\n",
       "      <td>1</td>\n",
       "      <td>1</td>\n",
       "      <td>AAPL</td>\n",
       "      <td>2015-05-28 00:00:00+00:00</td>\n",
       "      <td>131.780</td>\n",
       "      <td>131.950</td>\n",
       "      <td>131.10</td>\n",
       "      <td>131.86</td>\n",
       "      <td>30733309</td>\n",
       "      <td>121.438354</td>\n",
       "      <td>121.595013</td>\n",
       "      <td>120.811718</td>\n",
       "      <td>121.512076</td>\n",
       "      <td>30733309</td>\n",
       "      <td>0.0</td>\n",
       "      <td>1.0</td>\n",
       "    </tr>\n",
       "    <tr>\n",
       "      <td>2</td>\n",
       "      <td>2</td>\n",
       "      <td>AAPL</td>\n",
       "      <td>2015-05-29 00:00:00+00:00</td>\n",
       "      <td>130.280</td>\n",
       "      <td>131.450</td>\n",
       "      <td>129.90</td>\n",
       "      <td>131.23</td>\n",
       "      <td>50884452</td>\n",
       "      <td>120.056069</td>\n",
       "      <td>121.134251</td>\n",
       "      <td>119.705890</td>\n",
       "      <td>120.931516</td>\n",
       "      <td>50884452</td>\n",
       "      <td>0.0</td>\n",
       "      <td>1.0</td>\n",
       "    </tr>\n",
       "    <tr>\n",
       "      <td>3</td>\n",
       "      <td>3</td>\n",
       "      <td>AAPL</td>\n",
       "      <td>2015-06-01 00:00:00+00:00</td>\n",
       "      <td>130.535</td>\n",
       "      <td>131.390</td>\n",
       "      <td>130.05</td>\n",
       "      <td>131.20</td>\n",
       "      <td>32112797</td>\n",
       "      <td>120.291057</td>\n",
       "      <td>121.078960</td>\n",
       "      <td>119.844118</td>\n",
       "      <td>120.903870</td>\n",
       "      <td>32112797</td>\n",
       "      <td>0.0</td>\n",
       "      <td>1.0</td>\n",
       "    </tr>\n",
       "    <tr>\n",
       "      <td>4</td>\n",
       "      <td>4</td>\n",
       "      <td>AAPL</td>\n",
       "      <td>2015-06-02 00:00:00+00:00</td>\n",
       "      <td>129.960</td>\n",
       "      <td>130.655</td>\n",
       "      <td>129.32</td>\n",
       "      <td>129.86</td>\n",
       "      <td>33667627</td>\n",
       "      <td>119.761181</td>\n",
       "      <td>120.401640</td>\n",
       "      <td>119.171406</td>\n",
       "      <td>119.669029</td>\n",
       "      <td>33667627</td>\n",
       "      <td>0.0</td>\n",
       "      <td>1.0</td>\n",
       "    </tr>\n",
       "  </tbody>\n",
       "</table>\n",
       "</div>"
      ],
      "text/plain": [
       "   Unnamed: 0 symbol                       date    close     high     low  \\\n",
       "0           0   AAPL  2015-05-27 00:00:00+00:00  132.045  132.260  130.05   \n",
       "1           1   AAPL  2015-05-28 00:00:00+00:00  131.780  131.950  131.10   \n",
       "2           2   AAPL  2015-05-29 00:00:00+00:00  130.280  131.450  129.90   \n",
       "3           3   AAPL  2015-06-01 00:00:00+00:00  130.535  131.390  130.05   \n",
       "4           4   AAPL  2015-06-02 00:00:00+00:00  129.960  130.655  129.32   \n",
       "\n",
       "     open    volume    adjClose     adjHigh      adjLow     adjOpen  \\\n",
       "0  130.34  45833246  121.682558  121.880685  119.844118  120.111360   \n",
       "1  131.86  30733309  121.438354  121.595013  120.811718  121.512076   \n",
       "2  131.23  50884452  120.056069  121.134251  119.705890  120.931516   \n",
       "3  131.20  32112797  120.291057  121.078960  119.844118  120.903870   \n",
       "4  129.86  33667627  119.761181  120.401640  119.171406  119.669029   \n",
       "\n",
       "   adjVolume  divCash  splitFactor  \n",
       "0   45833246      0.0          1.0  \n",
       "1   30733309      0.0          1.0  \n",
       "2   50884452      0.0          1.0  \n",
       "3   32112797      0.0          1.0  \n",
       "4   33667627      0.0          1.0  "
      ]
     },
     "execution_count": 188,
     "metadata": {},
     "output_type": "execute_result"
    }
   ],
   "source": [
    "df.head()"
   ]
  },
  {
   "cell_type": "code",
   "execution_count": 189,
   "metadata": {},
   "outputs": [],
   "source": [
    "df1=df.reset_index()['close']"
   ]
  },
  {
   "cell_type": "code",
   "execution_count": 190,
   "metadata": {},
   "outputs": [
    {
     "data": {
      "text/plain": [
       "0       132.045\n",
       "1       131.780\n",
       "2       130.280\n",
       "3       130.535\n",
       "4       129.960\n",
       "         ...   \n",
       "1253    314.960\n",
       "1254    313.140\n",
       "1255    319.230\n",
       "1256    316.850\n",
       "1257    318.890\n",
       "Name: close, Length: 1258, dtype: float64"
      ]
     },
     "execution_count": 190,
     "metadata": {},
     "output_type": "execute_result"
    }
   ],
   "source": [
    "df1"
   ]
  },
  {
   "cell_type": "code",
   "execution_count": 191,
   "metadata": {},
   "outputs": [
    {
     "data": {
      "text/plain": [
       "<function matplotlib.pyplot.show(*args, **kw)>"
      ]
     },
     "execution_count": 191,
     "metadata": {},
     "output_type": "execute_result"
    },
    {
     "data": {
      "image/png": "[encoded data removed]",
      "text/plain": [
       "<Figure size 432x288 with 1 Axes>"
      ]
     },
     "metadata": {
      "needs_background": "light"
     },
     "output_type": "display_data"
    }
   ],
   "source": [
    "import matplotlib.pyplot as plt\n",
    "plt.plot(df1)\n",
    "plt.show"
   ]
  },
  {
   "cell_type": "code",
   "execution_count": 192,
   "metadata": {},
   "outputs": [],
   "source": [
    "import numpy as np"
   ]
  },
  {
   "cell_type": "code",
   "execution_count": 193,
   "metadata": {},
   "outputs": [],
   "source": [
    "from sklearn.preprocessing import MinMaxScaler\n",
    "scalar=MinMaxScaler(feature_range=(0,1))\n",
    "#reshape (-1,1)convert the given matrix into that many rows and 1 columns e.g 100 item convert into 100*1 2-d array\n",
    "#reshape(1,-1)convert the given matrix into that many columns and 1 rows e.g 100 items convert into 1*100 2-d array\n",
    "df1=scalar.fit_transform(np.array(df1).reshape(-1,1))"
   ]
  },
  {
   "cell_type": "code",
   "execution_count": 194,
   "metadata": {},
   "outputs": [],
   "source": [
    "#splitting the dataset into trainset and testset\n",
    "train_size=int(len(df1)*0.65)\n",
    "test_size=len(df1)-train_size\n",
    "#[:,0]and [:,:1]means the first mean simply give the first column.It give 1-d array\n",
    "# it given 1-d array. while  second mean for every row give the first from 0 to1 (1exculded). It give 2d array\n",
    "train_data,test_data=df1[:train_size,:],df1[train_size:,:]\n"
   ]
  },
  {
   "cell_type": "code",
   "execution_count": null,
   "metadata": {},
   "outputs": [],
   "source": []
  },
  {
   "cell_type": "code",
   "execution_count": 195,
   "metadata": {},
   "outputs": [
    {
     "data": {
      "text/plain": [
       "((817, 1), (441, 1), 1258)"
      ]
     },
     "execution_count": 195,
     "metadata": {},
     "output_type": "execute_result"
    }
   ],
   "source": [
    "train_data.shape,test_data.shape,len(df1)"
   ]
  },
  {
   "cell_type": "code",
   "execution_count": 196,
   "metadata": {},
   "outputs": [],
   "source": [
    "#preparation of data\n",
    "#we convert list to array as convert it into 2d array as list shape is not defined.\n",
    "# we cannot reshape list but we can reshape an array\n",
    "import numpy\n",
    "def raw_data(dataset,time_step=1):\n",
    "    set_X=[]\n",
    "    set_Y=[]\n",
    "    for i in range(len(dataset)-time_step-1):\n",
    "        set_X.append(dataset[i:time_step+i,0])\n",
    "        set_Y.append(dataset[time_step+i,0])\n",
    "    return numpy.array(set_X),numpy.array(set_Y)\n",
    "    "
   ]
  },
  {
   "cell_type": "code",
   "execution_count": 197,
   "metadata": {},
   "outputs": [],
   "source": [
    "\n",
    "time_step=100\n",
    "train_X,train_Y=raw_data(train_data,time_step)\n",
    "test_X,test_Y=raw_data(test_data,time_step)"
   ]
  },
  {
   "cell_type": "code",
   "execution_count": 198,
   "metadata": {},
   "outputs": [
    {
     "data": {
      "text/plain": [
       "(716,)"
      ]
     },
     "execution_count": 198,
     "metadata": {},
     "output_type": "execute_result"
    }
   ],
   "source": [
    "train_Y.shape"
   ]
  },
  {
   "cell_type": "code",
   "execution_count": 199,
   "metadata": {},
   "outputs": [],
   "source": [
    "#converting to 3-d vector\n",
    "train_X=train_X.reshape(train_X.shape[0],train_X.shape[1],1)\n",
    "test_X=test_X.reshape(test_X.shape[0],test_X.shape[1],1)\n"
   ]
  },
  {
   "cell_type": "code",
   "execution_count": 200,
   "metadata": {},
   "outputs": [],
   "source": [
    "#import from keras\n",
    "from tensorflow.keras.models import Sequential\n",
    "from tensorflow.keras.layers import Dense\n",
    "from tensorflow.keras.layers import LSTM\n",
    "\n"
   ]
  },
  {
   "cell_type": "code",
   "execution_count": 201,
   "metadata": {},
   "outputs": [],
   "source": [
    "model=Sequential()\n",
    "model.add(LSTM(50,return_sequences=True,input_shape=(100,1)))\n",
    "model.add(LSTM(50,return_sequences=True))\n",
    "model.add(LSTM(50))\n",
    "model.add(Dense(1))\n",
    "model.compile(loss='mean_squared_error',optimizer='adam')"
   ]
  },
  {
   "cell_type": "code",
   "execution_count": 202,
   "metadata": {},
   "outputs": [
    {
     "name": "stdout",
     "output_type": "stream",
     "text": [
      "Model: \"sequential_2\"\n",
      "_________________________________________________________________\n",
      "Layer (type)                 Output Shape              Param #   \n",
      "=================================================================\n",
      "lstm_6 (LSTM)                (None, 100, 50)           10400     \n",
      "_________________________________________________________________\n",
      "lstm_7 (LSTM)                (None, 100, 50)           20200     \n",
      "_________________________________________________________________\n",
      "lstm_8 (LSTM)                (None, 50)                20200     \n",
      "_________________________________________________________________\n",
      "dense_2 (Dense)              (None, 1)                 51        \n",
      "=================================================================\n",
      "Total params: 50,851\n",
      "Trainable params: 50,851\n",
      "Non-trainable params: 0\n",
      "_________________________________________________________________\n"
     ]
    }
   ],
   "source": [
    "model.summary()"
   ]
  },
  {
   "cell_type": "code",
   "execution_count": 203,
   "metadata": {},
   "outputs": [
    {
     "data": {
      "text/plain": [
       "((716, 100, 1), (716,), (340, 100, 1), (340,))"
      ]
     },
     "execution_count": 203,
     "metadata": {},
     "output_type": "execute_result"
    }
   ],
   "source": [
    "train_X.shape,train_Y.shape,test_X.shape,test_Y.shape"
   ]
  },
  {
   "cell_type": "code",
   "execution_count": 204,
   "metadata": {},
   "outputs": [
    {
     "name": "stdout",
     "output_type": "stream",
     "text": [
      "Train on 716 samples, validate on 340 samples\n",
      "Epoch 1/100\n",
      "716/716 [==============================] - 11s 15ms/sample - loss: 0.0095 - val_loss: 0.0553\n",
      "Epoch 2/100\n",
      "716/716 [==============================] - 4s 5ms/sample - loss: 0.0024 - val_loss: 0.0074\n",
      "Epoch 3/100\n",
      "716/716 [==============================] - 4s 6ms/sample - loss: 8.4220e-04 - val_loss: 0.0042\n",
      "Epoch 4/100\n",
      "716/716 [==============================] - 4s 6ms/sample - loss: 6.9323e-04 - val_loss: 0.0037\n",
      "Epoch 5/100\n",
      "716/716 [==============================] - 4s 6ms/sample - loss: 6.5088e-04 - val_loss: 0.0037\n",
      "Epoch 6/100\n",
      "716/716 [==============================] - 4s 6ms/sample - loss: 7.2080e-04 - val_loss: 0.0036\n",
      "Epoch 7/100\n",
      "716/716 [==============================] - 4s 6ms/sample - loss: 6.7531e-04 - val_loss: 0.0036\n",
      "Epoch 8/100\n",
      "716/716 [==============================] - 4s 6ms/sample - loss: 6.1042e-04 - val_loss: 0.0045\n",
      "Epoch 9/100\n",
      "716/716 [==============================] - 4s 6ms/sample - loss: 6.0265e-04 - val_loss: 0.0042\n",
      "Epoch 10/100\n",
      "716/716 [==============================] - 4s 6ms/sample - loss: 5.6662e-04 - val_loss: 0.0038\n",
      "Epoch 11/100\n",
      "716/716 [==============================] - 4s 6ms/sample - loss: 5.6199e-04 - val_loss: 0.0037\n",
      "Epoch 12/100\n",
      "716/716 [==============================] - 4s 6ms/sample - loss: 5.5862e-04 - val_loss: 0.0035\n",
      "Epoch 13/100\n",
      "716/716 [==============================] - 4s 6ms/sample - loss: 5.6102e-04 - val_loss: 0.0034\n",
      "Epoch 14/100\n",
      "716/716 [==============================] - 4s 6ms/sample - loss: 5.6226e-04 - val_loss: 0.0038\n",
      "Epoch 15/100\n",
      "716/716 [==============================] - 4s 6ms/sample - loss: 5.3589e-04 - val_loss: 0.0035\n",
      "Epoch 16/100\n",
      "716/716 [==============================] - 4s 6ms/sample - loss: 5.3411e-04 - val_loss: 0.0038\n",
      "Epoch 17/100\n",
      "716/716 [==============================] - 4s 6ms/sample - loss: 5.2353e-04 - val_loss: 0.0031\n",
      "Epoch 18/100\n",
      "716/716 [==============================] - 5s 6ms/sample - loss: 5.1765e-04 - val_loss: 0.0028\n",
      "Epoch 19/100\n",
      "716/716 [==============================] - 5s 7ms/sample - loss: 5.3079e-04 - val_loss: 0.0032\n",
      "Epoch 20/100\n",
      "716/716 [==============================] - 4s 6ms/sample - loss: 4.9295e-04 - val_loss: 0.0030\n",
      "Epoch 21/100\n",
      "716/716 [==============================] - 4s 6ms/sample - loss: 5.0703e-04 - val_loss: 0.0030\n",
      "Epoch 22/100\n",
      "716/716 [==============================] - 4s 6ms/sample - loss: 5.4341e-04 - val_loss: 0.0025\n",
      "Epoch 23/100\n",
      "716/716 [==============================] - 4s 6ms/sample - loss: 4.8516e-04 - val_loss: 0.0025\n",
      "Epoch 24/100\n",
      "716/716 [==============================] - 4s 6ms/sample - loss: 4.8489e-04 - val_loss: 0.0024\n",
      "Epoch 25/100\n",
      "716/716 [==============================] - 5s 6ms/sample - loss: 4.5360e-04 - val_loss: 0.0025\n",
      "Epoch 26/100\n",
      "716/716 [==============================] - 4s 6ms/sample - loss: 4.7941e-04 - val_loss: 0.0027\n",
      "Epoch 27/100\n",
      "716/716 [==============================] - 4s 6ms/sample - loss: 5.9101e-04 - val_loss: 0.0026\n",
      "Epoch 28/100\n",
      "716/716 [==============================] - 4s 6ms/sample - loss: 4.3838e-04 - val_loss: 0.0027\n",
      "Epoch 29/100\n",
      "716/716 [==============================] - 4s 6ms/sample - loss: 5.3287e-04 - val_loss: 0.0023\n",
      "Epoch 30/100\n",
      "716/716 [==============================] - 4s 6ms/sample - loss: 4.6229e-04 - val_loss: 0.0020\n",
      "Epoch 31/100\n",
      "716/716 [==============================] - 5s 6ms/sample - loss: 4.9999e-04 - val_loss: 0.0022\n",
      "Epoch 32/100\n",
      "716/716 [==============================] - 5s 6ms/sample - loss: 4.4116e-04 - val_loss: 0.0021\n",
      "Epoch 33/100\n",
      "716/716 [==============================] - 5s 6ms/sample - loss: 4.2013e-04 - val_loss: 0.0019\n",
      "Epoch 34/100\n",
      "716/716 [==============================] - 5s 6ms/sample - loss: 4.1068e-04 - val_loss: 0.0022\n",
      "Epoch 35/100\n",
      "716/716 [==============================] - 8s 11ms/sample - loss: 3.9540e-04 - val_loss: 0.0021\n",
      "Epoch 36/100\n",
      "716/716 [==============================] - 8s 11ms/sample - loss: 3.9202e-04 - val_loss: 0.0018\n",
      "Epoch 37/100\n",
      "716/716 [==============================] - 8s 11ms/sample - loss: 3.7234e-04 - val_loss: 0.0019\n",
      "Epoch 38/100\n",
      "716/716 [==============================] - 8s 11ms/sample - loss: 3.8609e-04 - val_loss: 0.0019\n",
      "Epoch 39/100\n",
      "716/716 [==============================] - 8s 11ms/sample - loss: 3.9311e-04 - val_loss: 0.0019\n",
      "Epoch 40/100\n",
      "716/716 [==============================] - 8s 11ms/sample - loss: 3.4350e-04 - val_loss: 0.0018\n",
      "Epoch 41/100\n",
      "716/716 [==============================] - 8s 11ms/sample - loss: 3.8801e-04 - val_loss: 0.0019\n",
      "Epoch 42/100\n",
      "716/716 [==============================] - 8s 11ms/sample - loss: 4.1579e-04 - val_loss: 0.0038\n",
      "Epoch 43/100\n",
      "716/716 [==============================] - 8s 11ms/sample - loss: 3.8790e-04 - val_loss: 0.0022\n",
      "Epoch 44/100\n",
      "716/716 [==============================] - 8s 11ms/sample - loss: 4.4399e-04 - val_loss: 0.0019\n",
      "Epoch 45/100\n",
      "716/716 [==============================] - 8s 11ms/sample - loss: 3.4457e-04 - val_loss: 0.0018\n",
      "Epoch 46/100\n",
      "716/716 [==============================] - 8s 11ms/sample - loss: 3.5087e-04 - val_loss: 0.0046\n",
      "Epoch 47/100\n",
      "716/716 [==============================] - 8s 11ms/sample - loss: 4.0535e-04 - val_loss: 0.0025\n",
      "Epoch 48/100\n",
      "716/716 [==============================] - 7s 10ms/sample - loss: 3.7629e-04 - val_loss: 0.0023\n",
      "Epoch 49/100\n",
      "716/716 [==============================] - 8s 10ms/sample - loss: 3.4840e-04 - val_loss: 0.0024\n",
      "Epoch 50/100\n",
      "716/716 [==============================] - 8s 11ms/sample - loss: 3.2899e-04 - val_loss: 0.0019\n",
      "Epoch 51/100\n",
      "716/716 [==============================] - 8s 11ms/sample - loss: 3.5650e-04 - val_loss: 0.0018\n",
      "Epoch 52/100\n",
      "716/716 [==============================] - 7s 10ms/sample - loss: 3.4328e-04 - val_loss: 0.0017\n",
      "Epoch 53/100\n",
      "716/716 [==============================] - 7s 9ms/sample - loss: 3.1649e-04 - val_loss: 0.0017\n",
      "Epoch 54/100\n",
      "716/716 [==============================] - 7s 10ms/sample - loss: 3.0686e-04 - val_loss: 0.0016\n",
      "Epoch 55/100\n",
      "716/716 [==============================] - 8s 11ms/sample - loss: 2.9958e-04 - val_loss: 0.0016\n",
      "Epoch 56/100\n",
      "716/716 [==============================] - 8s 11ms/sample - loss: 3.0772e-04 - val_loss: 0.0025\n",
      "Epoch 57/100\n",
      "716/716 [==============================] - 7s 9ms/sample - loss: 3.3034e-04 - val_loss: 0.0015\n",
      "Epoch 58/100\n",
      "716/716 [==============================] - 7s 9ms/sample - loss: 3.0248e-04 - val_loss: 0.0018\n",
      "Epoch 59/100\n",
      "716/716 [==============================] - 7s 10ms/sample - loss: 3.1239e-04 - val_loss: 0.0017\n",
      "Epoch 60/100\n",
      "716/716 [==============================] - 7s 10ms/sample - loss: 3.0888e-04 - val_loss: 0.0014\n",
      "Epoch 61/100\n",
      "716/716 [==============================] - 7s 10ms/sample - loss: 2.8663e-04 - val_loss: 0.0016\n",
      "Epoch 62/100\n",
      "716/716 [==============================] - 8s 11ms/sample - loss: 2.9668e-04 - val_loss: 0.0013\n",
      "Epoch 63/100\n",
      "716/716 [==============================] - 8s 11ms/sample - loss: 3.1592e-04 - val_loss: 0.0016\n",
      "Epoch 64/100\n",
      "716/716 [==============================] - 8s 11ms/sample - loss: 2.7958e-04 - val_loss: 0.0018\n",
      "Epoch 65/100\n",
      "716/716 [==============================] - 8s 11ms/sample - loss: 3.4677e-04 - val_loss: 0.0022\n",
      "Epoch 66/100\n",
      "716/716 [==============================] - 8s 11ms/sample - loss: 3.1364e-04 - val_loss: 0.0013\n",
      "Epoch 67/100\n",
      "716/716 [==============================] - 8s 11ms/sample - loss: 2.7871e-04 - val_loss: 0.0015\n",
      "Epoch 68/100\n",
      "716/716 [==============================] - 8s 11ms/sample - loss: 2.8294e-04 - val_loss: 0.0015\n",
      "Epoch 69/100\n",
      "716/716 [==============================] - 8s 11ms/sample - loss: 2.7674e-04 - val_loss: 0.0013\n",
      "Epoch 70/100\n",
      "716/716 [==============================] - 8s 11ms/sample - loss: 2.6427e-04 - val_loss: 0.0014\n",
      "Epoch 71/100\n",
      "716/716 [==============================] - 8s 11ms/sample - loss: 2.7035e-04 - val_loss: 0.0013\n",
      "Epoch 72/100\n",
      "716/716 [==============================] - 7s 10ms/sample - loss: 3.3524e-04 - val_loss: 0.0014\n",
      "Epoch 73/100\n",
      "716/716 [==============================] - 7s 10ms/sample - loss: 2.9465e-04 - val_loss: 0.0013\n",
      "Epoch 74/100\n",
      "716/716 [==============================] - 8s 11ms/sample - loss: 3.0575e-04 - val_loss: 0.0013\n",
      "Epoch 75/100\n",
      "716/716 [==============================] - 7s 10ms/sample - loss: 2.5054e-04 - val_loss: 0.0013\n",
      "Epoch 76/100\n"
     ]
    },
    {
     "name": "stdout",
     "output_type": "stream",
     "text": [
      "716/716 [==============================] - 7s 10ms/sample - loss: 2.3141e-04 - val_loss: 0.0012\n",
      "Epoch 77/100\n",
      "716/716 [==============================] - 8s 11ms/sample - loss: 2.3103e-04 - val_loss: 0.0013\n",
      "Epoch 78/100\n",
      "716/716 [==============================] - 8s 11ms/sample - loss: 2.4337e-04 - val_loss: 0.0015\n",
      "Epoch 79/100\n",
      "716/716 [==============================] - 8s 11ms/sample - loss: 2.3549e-04 - val_loss: 0.0012\n",
      "Epoch 80/100\n",
      "716/716 [==============================] - 8s 11ms/sample - loss: 2.2954e-04 - val_loss: 0.0011\n",
      "Epoch 81/100\n",
      "716/716 [==============================] - 7s 10ms/sample - loss: 2.4628e-04 - val_loss: 0.0014\n",
      "Epoch 82/100\n",
      "716/716 [==============================] - 7s 10ms/sample - loss: 2.3223e-04 - val_loss: 0.0013\n",
      "Epoch 83/100\n",
      "716/716 [==============================] - 8s 10ms/sample - loss: 2.1458e-04 - val_loss: 0.0011\n",
      "Epoch 84/100\n",
      "716/716 [==============================] - 8s 11ms/sample - loss: 2.1035e-04 - val_loss: 0.0013\n",
      "Epoch 85/100\n",
      "716/716 [==============================] - 8s 11ms/sample - loss: 2.2799e-04 - val_loss: 0.0016\n",
      "Epoch 86/100\n",
      "716/716 [==============================] - 8s 11ms/sample - loss: 2.1331e-04 - val_loss: 0.0011\n",
      "Epoch 87/100\n",
      "716/716 [==============================] - 7s 9ms/sample - loss: 2.1237e-04 - val_loss: 0.0011\n",
      "Epoch 88/100\n",
      "716/716 [==============================] - 7s 10ms/sample - loss: 2.1529e-04 - val_loss: 0.0023\n",
      "Epoch 89/100\n",
      "716/716 [==============================] - 7s 10ms/sample - loss: 2.3423e-04 - val_loss: 0.0013\n",
      "Epoch 90/100\n",
      "716/716 [==============================] - 8s 11ms/sample - loss: 2.0634e-04 - val_loss: 0.0013\n",
      "Epoch 91/100\n",
      "716/716 [==============================] - 8s 11ms/sample - loss: 1.9770e-04 - val_loss: 0.0010\n",
      "Epoch 92/100\n",
      "716/716 [==============================] - 8s 11ms/sample - loss: 2.0209e-04 - val_loss: 0.0014\n",
      "Epoch 93/100\n",
      "716/716 [==============================] - 7s 9ms/sample - loss: 1.9322e-04 - val_loss: 0.0011\n",
      "Epoch 94/100\n",
      "716/716 [==============================] - 6s 9ms/sample - loss: 1.7996e-04 - val_loss: 0.0012\n",
      "Epoch 95/100\n",
      "716/716 [==============================] - 8s 11ms/sample - loss: 2.0288e-04 - val_loss: 0.0016\n",
      "Epoch 96/100\n",
      "716/716 [==============================] - 8s 11ms/sample - loss: 1.8665e-04 - val_loss: 0.0010\n",
      "Epoch 97/100\n",
      "716/716 [==============================] - 8s 11ms/sample - loss: 1.9703e-04 - val_loss: 0.0019\n",
      "Epoch 98/100\n",
      "716/716 [==============================] - 7s 10ms/sample - loss: 1.9486e-04 - val_loss: 0.0010\n",
      "Epoch 99/100\n",
      "716/716 [==============================] - 8s 11ms/sample - loss: 1.6835e-04 - val_loss: 0.0012\n",
      "Epoch 100/100\n",
      "716/716 [==============================] - 8s 11ms/sample - loss: 1.7527e-04 - val_loss: 0.0017\n"
     ]
    },
    {
     "data": {
      "text/plain": [
       "<tensorflow.python.keras.callbacks.History at 0x16e19d25b48>"
      ]
     },
     "execution_count": 204,
     "metadata": {},
     "output_type": "execute_result"
    }
   ],
   "source": [
    "# model.fit(train_X,train_Y,validation_data=(test_X,test_Y),epochs=100,batch_size=64,verbose=1)\n",
    "model.fit(train_X,train_Y,validation_data=(test_X,test_Y),epochs=100,batch_size=64,verbose=1)\n"
   ]
  },
  {
   "cell_type": "code",
   "execution_count": 205,
   "metadata": {},
   "outputs": [],
   "source": [
    "import tensorflow as tf\n"
   ]
  },
  {
   "cell_type": "code",
   "execution_count": 206,
   "metadata": {},
   "outputs": [
    {
     "data": {
      "text/plain": [
       "'2.1.0'"
      ]
     },
     "execution_count": 206,
     "metadata": {},
     "output_type": "execute_result"
    }
   ],
   "source": [
    "tf.__version__"
   ]
  },
  {
   "cell_type": "code",
   "execution_count": 207,
   "metadata": {},
   "outputs": [],
   "source": [
    "#making prediction from the LSTM model\n",
    "train_predict=model.predict(train_X)\n",
    "test_predict=model.predict(test_X)"
   ]
  },
  {
   "cell_type": "code",
   "execution_count": 208,
   "metadata": {},
   "outputs": [
    {
     "data": {
      "text/plain": [
       "(716, 1)"
      ]
     },
     "execution_count": 208,
     "metadata": {},
     "output_type": "execute_result"
    }
   ],
   "source": [
    "train_predict.shape"
   ]
  },
  {
   "cell_type": "code",
   "execution_count": 209,
   "metadata": {},
   "outputs": [],
   "source": [
    "# transforming back to original from as we had normalised it before.\n",
    "train_predict=scalar.inverse_transform(train_predict)\n",
    "test_predict=scalar.inverse_transform(test_predict)"
   ]
  },
  {
   "cell_type": "code",
   "execution_count": 210,
   "metadata": {},
   "outputs": [
    {
     "data": {
      "text/plain": [
       "142.573070459808"
      ]
     },
     "execution_count": 210,
     "metadata": {},
     "output_type": "execute_result"
    }
   ],
   "source": [
    "import math\n",
    "from sklearn.metrics import mean_squared_error\n",
    "math.sqrt(mean_squared_error(train_Y,train_predict))\n"
   ]
  },
  {
   "cell_type": "code",
   "execution_count": 211,
   "metadata": {},
   "outputs": [
    {
     "data": {
      "text/plain": [
       "243.98928847484416"
      ]
     },
     "execution_count": 211,
     "metadata": {},
     "output_type": "execute_result"
    }
   ],
   "source": [
    "math.sqrt(mean_squared_error(test_Y,test_predict))"
   ]
  },
  {
   "cell_type": "code",
   "execution_count": 212,
   "metadata": {},
   "outputs": [
    {
     "data": {
      "text/plain": [
       "(716, 1)"
      ]
     },
     "execution_count": 212,
     "metadata": {},
     "output_type": "execute_result"
    }
   ],
   "source": [
    "train_predict.shape"
   ]
  },
  {
   "cell_type": "code",
   "execution_count": 218,
   "metadata": {},
   "outputs": [
    {
     "data": {
      "text/plain": [
       "[<matplotlib.lines.Line2D at 0x16e3d098c08>]"
      ]
     },
     "execution_count": 218,
     "metadata": {},
     "output_type": "execute_result"
    },
    {
     "data": {
      "image/png": "[encoded data removed]",
      "text/plain": [
       "<Figure size 432x288 with 1 Axes>"
      ]
     },
     "metadata": {
      "needs_background": "light"
     },
     "output_type": "display_data"
    }
   ],
   "source": [
    "#making adjustment for plotting\n",
    "look_back=100\n",
    "train_predict_plot=np.empty_like(df1)\n",
    "train_predict_plot[:,:]=np.nan\n",
    "train_predict_plot[look_back:len(train_predict)+look_back,:]=train_predict\n",
    "#similarily for test\n",
    "test_predict_plot=np.empty_like(df1)\n",
    "test_predict_plot[:,:]=np.nan\n",
    "test_predict_plot[len(train_predict)+(look_back*2)+1:len(df1)-1,:]=test_predict\n",
    "#plotting\n",
    "# b=scalar.inverse_transform(df1)\n",
    "# plt.plot(b)\n",
    "plt.plot(scalar.inverse_transform(df1))\n",
    "plt.plot(train_predict_plot)\n",
    "plt.plot(test_predict_plot)\n",
    "\n"
   ]
  },
  {
   "cell_type": "code",
   "execution_count": 219,
   "metadata": {},
   "outputs": [
    {
     "data": {
      "text/plain": [
       "array([118.29640961])"
      ]
     },
     "execution_count": 219,
     "metadata": {},
     "output_type": "execute_result"
    }
   ],
   "source": [
    "train_predict_plot[110]"
   ]
  },
  {
   "cell_type": "code",
   "execution_count": 220,
   "metadata": {},
   "outputs": [
    {
     "data": {
      "text/plain": [
       "((716, 1), (340, 1), (1258, 1), (1258, 1))"
      ]
     },
     "execution_count": 220,
     "metadata": {},
     "output_type": "execute_result"
    }
   ],
   "source": [
    "train_predict.shape,test_predict.shape,test_predict_plot.shape,train_predict_plot.shape"
   ]
  },
  {
   "cell_type": "code",
   "execution_count": 221,
   "metadata": {},
   "outputs": [
    {
     "data": {
      "text/plain": [
       "[<matplotlib.lines.Line2D at 0x16e3d106e88>]"
      ]
     },
     "execution_count": 221,
     "metadata": {},
     "output_type": "execute_result"
    },
    {
     "data": {
      "image/png": "[encoded data removed]",
      "text/plain": [
       "<Figure size 432x288 with 1 Axes>"
      ]
     },
     "metadata": {
      "needs_background": "light"
     },
     "output_type": "display_data"
    }
   ],
   "source": [
    "b=scalar.inverse_transform(df1)\n",
    "plt.plot(b)"
   ]
  },
  {
   "cell_type": "code",
   "execution_count": 294,
   "metadata": {},
   "outputs": [],
   "source": [
    "#no use step\n",
    "l=np.empty_like(df1)\n",
    "l[:,:]=np.nan\n"
   ]
  },
  {
   "cell_type": "code",
   "execution_count": 295,
   "metadata": {},
   "outputs": [
    {
     "data": {
      "text/plain": [
       "(817, 1)"
      ]
     },
     "execution_count": 295,
     "metadata": {},
     "output_type": "execute_result"
    }
   ],
   "source": [
    "train_data.shape"
   ]
  },
  {
   "cell_type": "code",
   "execution_count": 296,
   "metadata": {},
   "outputs": [
    {
     "data": {
      "text/plain": [
       "(1, 100)"
      ]
     },
     "execution_count": 296,
     "metadata": {},
     "output_type": "execute_result"
    }
   ],
   "source": [
    "x_input=test_data[341:].reshape(1,-1)\n",
    "x_input.shape\n"
   ]
  },
  {
   "cell_type": "code",
   "execution_count": null,
   "metadata": {},
   "outputs": [],
   "source": []
  },
  {
   "cell_type": "code",
   "execution_count": 297,
   "metadata": {},
   "outputs": [
    {
     "data": {
      "text/plain": [
       "100"
      ]
     },
     "execution_count": 297,
     "metadata": {},
     "output_type": "execute_result"
    }
   ],
   "source": [
    "temp_input=list(x_input)\n",
    "temp_input=temp_input[0].tolist()\n",
    "len(temp_input)"
   ]
  },
  {
   "cell_type": "code",
   "execution_count": null,
   "metadata": {},
   "outputs": [],
   "source": []
  },
  {
   "cell_type": "code",
   "execution_count": 298,
   "metadata": {},
   "outputs": [],
   "source": [
    "x_input = x_input.reshape((1, n_steps,1))"
   ]
  },
  {
   "cell_type": "code",
   "execution_count": 299,
   "metadata": {},
   "outputs": [
    {
     "data": {
      "text/plain": [
       "(1, 100, 1)"
      ]
     },
     "execution_count": 299,
     "metadata": {},
     "output_type": "execute_result"
    }
   ],
   "source": [
    "x_input.shape"
   ]
  },
  {
   "cell_type": "code",
   "execution_count": 300,
   "metadata": {},
   "outputs": [],
   "source": [
    "# from numpy import array\n",
    "\n",
    "# lst_output=[]\n",
    "# n_steps=100\n",
    "# i=0\n",
    "# while(i<30):\n",
    "    \n",
    "#     if(len(temp_input)>100):\n",
    "#         #print(temp_input)\n",
    "#         x_input=np.array(temp_input[1:])\n",
    "#         print(\"{} day input {}\".format(i,x_input))\n",
    "#         x_input=x_input.reshape(1,-1)\n",
    "#         x_input = x_input.reshape((1, n_steps, 1))\n",
    "#         #print(x_input)\n",
    "#         yhat = model.predict(x_input, verbose=0)\n",
    "#         print(\"{} day output {}\".format(i,yhat))\n",
    "#         temp_input.extend(yhat[0].tolist())\n",
    "#         temp_input=temp_input[1:]\n",
    "#         #print(temp_input)\n",
    "#         lst_output.extend(yhat.tolist())\n",
    "#         i=i+1\n",
    "#     else:\n",
    "#         x_input = x_input.reshape((1, n_steps,1))\n",
    "#         yhat = model.predict(x_input, verbose=0)\n",
    "#         print(yhat[0])\n",
    "#         temp_input.extend(yhat[0].tolist())\n",
    "#         print(len(temp_input))\n",
    "#         lst_output.extend(yhat.tolist())\n",
    "#         i=i+1\n",
    "    \n",
    "\n",
    "# print(lst_output)"
   ]
  },
  {
   "cell_type": "code",
   "execution_count": 301,
   "metadata": {},
   "outputs": [
    {
     "name": "stdout",
     "output_type": "stream",
     "text": [
      "[1.0023273]\n",
      "101\n",
      " 1 day input [0.8866419  0.87431394 0.88431985 0.87836697 0.8986321  0.92582116\n",
      " 0.92877649 0.95676771 0.93869797 0.93304061 0.94950604 0.96424048\n",
      " 0.95512117 0.95989192 0.96635143 0.96246728 0.92295027 0.9598497\n",
      " 0.98792536 0.98594106 0.92531453 0.92172591 0.96474711 0.97572406\n",
      " 0.99159841 0.96972895 0.97614625 0.96795575 1.         0.99016297\n",
      " 0.99050072 0.96538039 0.98488559 0.97086887 0.94026007 0.87748037\n",
      " 0.83483915 0.85413324 0.77336823 0.77269273 0.88014017 0.84007431\n",
      " 0.89673225 0.85527316 0.83884995 0.74233725 0.82327113 0.78143207\n",
      " 0.6665963  0.7921557  0.64118044 0.68614371 0.66001013 0.65203074\n",
      " 0.58642236 0.56586169 0.66089673 0.65515494 0.70970193 0.66452757\n",
      " 0.69437642 0.69218104 0.63569197 0.65266402 0.63780292 0.7267162\n",
      " 0.71388162 0.74191506 0.75002111 0.77222832 0.83049059 0.8194292\n",
      " 0.8289707  0.8125475  0.78776492 0.75162543 0.78426074 0.77974331\n",
      " 0.81326522 0.8141096  0.79473106 0.83336148 0.85898843 0.83901883\n",
      " 0.85628641 0.87486279 0.88782403 0.90095415 0.92793211 0.948535\n",
      " 0.93333615 0.91746179 0.92544119 0.91771511 0.9483239  0.94064004\n",
      " 0.96635143 0.9563033  0.96491598 1.00232732]\n",
      "1 day input [[1.0170807]]\n",
      " 2 day input [0.87431394 0.88431985 0.87836697 0.8986321  0.92582116 0.92877649\n",
      " 0.95676771 0.93869797 0.93304061 0.94950604 0.96424048 0.95512117\n",
      " 0.95989192 0.96635143 0.96246728 0.92295027 0.9598497  0.98792536\n",
      " 0.98594106 0.92531453 0.92172591 0.96474711 0.97572406 0.99159841\n",
      " 0.96972895 0.97614625 0.96795575 1.         0.99016297 0.99050072\n",
      " 0.96538039 0.98488559 0.97086887 0.94026007 0.87748037 0.83483915\n",
      " 0.85413324 0.77336823 0.77269273 0.88014017 0.84007431 0.89673225\n",
      " 0.85527316 0.83884995 0.74233725 0.82327113 0.78143207 0.6665963\n",
      " 0.7921557  0.64118044 0.68614371 0.66001013 0.65203074 0.58642236\n",
      " 0.56586169 0.66089673 0.65515494 0.70970193 0.66452757 0.69437642\n",
      " 0.69218104 0.63569197 0.65266402 0.63780292 0.7267162  0.71388162\n",
      " 0.74191506 0.75002111 0.77222832 0.83049059 0.8194292  0.8289707\n",
      " 0.8125475  0.78776492 0.75162543 0.78426074 0.77974331 0.81326522\n",
      " 0.8141096  0.79473106 0.83336148 0.85898843 0.83901883 0.85628641\n",
      " 0.87486279 0.88782403 0.90095415 0.92793211 0.948535   0.93333615\n",
      " 0.91746179 0.92544119 0.91771511 0.9483239  0.94064004 0.96635143\n",
      " 0.9563033  0.96491598 1.00232732 1.01708066]\n",
      "2 day input [[1.0359415]]\n",
      " 3 day input [0.88431985 0.87836697 0.8986321  0.92582116 0.92877649 0.95676771\n",
      " 0.93869797 0.93304061 0.94950604 0.96424048 0.95512117 0.95989192\n",
      " 0.96635143 0.96246728 0.92295027 0.9598497  0.98792536 0.98594106\n",
      " 0.92531453 0.92172591 0.96474711 0.97572406 0.99159841 0.96972895\n",
      " 0.97614625 0.96795575 1.         0.99016297 0.99050072 0.96538039\n",
      " 0.98488559 0.97086887 0.94026007 0.87748037 0.83483915 0.85413324\n",
      " 0.77336823 0.77269273 0.88014017 0.84007431 0.89673225 0.85527316\n",
      " 0.83884995 0.74233725 0.82327113 0.78143207 0.6665963  0.7921557\n",
      " 0.64118044 0.68614371 0.66001013 0.65203074 0.58642236 0.56586169\n",
      " 0.66089673 0.65515494 0.70970193 0.66452757 0.69437642 0.69218104\n",
      " 0.63569197 0.65266402 0.63780292 0.7267162  0.71388162 0.74191506\n",
      " 0.75002111 0.77222832 0.83049059 0.8194292  0.8289707  0.8125475\n",
      " 0.78776492 0.75162543 0.78426074 0.77974331 0.81326522 0.8141096\n",
      " 0.79473106 0.83336148 0.85898843 0.83901883 0.85628641 0.87486279\n",
      " 0.88782403 0.90095415 0.92793211 0.948535   0.93333615 0.91746179\n",
      " 0.92544119 0.91771511 0.9483239  0.94064004 0.96635143 0.9563033\n",
      " 0.96491598 1.00232732 1.01708066 1.03594148]\n",
      "3 day input [[1.0564791]]\n",
      " 4 day input [0.87836697 0.8986321  0.92582116 0.92877649 0.95676771 0.93869797\n",
      " 0.93304061 0.94950604 0.96424048 0.95512117 0.95989192 0.96635143\n",
      " 0.96246728 0.92295027 0.9598497  0.98792536 0.98594106 0.92531453\n",
      " 0.92172591 0.96474711 0.97572406 0.99159841 0.96972895 0.97614625\n",
      " 0.96795575 1.         0.99016297 0.99050072 0.96538039 0.98488559\n",
      " 0.97086887 0.94026007 0.87748037 0.83483915 0.85413324 0.77336823\n",
      " 0.77269273 0.88014017 0.84007431 0.89673225 0.85527316 0.83884995\n",
      " 0.74233725 0.82327113 0.78143207 0.6665963  0.7921557  0.64118044\n",
      " 0.68614371 0.66001013 0.65203074 0.58642236 0.56586169 0.66089673\n",
      " 0.65515494 0.70970193 0.66452757 0.69437642 0.69218104 0.63569197\n",
      " 0.65266402 0.63780292 0.7267162  0.71388162 0.74191506 0.75002111\n",
      " 0.77222832 0.83049059 0.8194292  0.8289707  0.8125475  0.78776492\n",
      " 0.75162543 0.78426074 0.77974331 0.81326522 0.8141096  0.79473106\n",
      " 0.83336148 0.85898843 0.83901883 0.85628641 0.87486279 0.88782403\n",
      " 0.90095415 0.92793211 0.948535   0.93333615 0.91746179 0.92544119\n",
      " 0.91771511 0.9483239  0.94064004 0.96635143 0.9563033  0.96491598\n",
      " 1.00232732 1.01708066 1.03594148 1.0564791 ]\n",
      "4 day input [[1.0774064]]\n",
      " 5 day input [0.8986321  0.92582116 0.92877649 0.95676771 0.93869797 0.93304061\n",
      " 0.94950604 0.96424048 0.95512117 0.95989192 0.96635143 0.96246728\n",
      " 0.92295027 0.9598497  0.98792536 0.98594106 0.92531453 0.92172591\n",
      " 0.96474711 0.97572406 0.99159841 0.96972895 0.97614625 0.96795575\n",
      " 1.         0.99016297 0.99050072 0.96538039 0.98488559 0.97086887\n",
      " 0.94026007 0.87748037 0.83483915 0.85413324 0.77336823 0.77269273\n",
      " 0.88014017 0.84007431 0.89673225 0.85527316 0.83884995 0.74233725\n",
      " 0.82327113 0.78143207 0.6665963  0.7921557  0.64118044 0.68614371\n",
      " 0.66001013 0.65203074 0.58642236 0.56586169 0.66089673 0.65515494\n",
      " 0.70970193 0.66452757 0.69437642 0.69218104 0.63569197 0.65266402\n",
      " 0.63780292 0.7267162  0.71388162 0.74191506 0.75002111 0.77222832\n",
      " 0.83049059 0.8194292  0.8289707  0.8125475  0.78776492 0.75162543\n",
      " 0.78426074 0.77974331 0.81326522 0.8141096  0.79473106 0.83336148\n",
      " 0.85898843 0.83901883 0.85628641 0.87486279 0.88782403 0.90095415\n",
      " 0.92793211 0.948535   0.93333615 0.91746179 0.92544119 0.91771511\n",
      " 0.9483239  0.94064004 0.96635143 0.9563033  0.96491598 1.00232732\n",
      " 1.01708066 1.03594148 1.0564791  1.07740641]\n",
      "5 day input [[1.0981071]]\n",
      " 6 day input [0.92582116 0.92877649 0.95676771 0.93869797 0.93304061 0.94950604\n",
      " 0.96424048 0.95512117 0.95989192 0.96635143 0.96246728 0.92295027\n",
      " 0.9598497  0.98792536 0.98594106 0.92531453 0.92172591 0.96474711\n",
      " 0.97572406 0.99159841 0.96972895 0.97614625 0.96795575 1.\n",
      " 0.99016297 0.99050072 0.96538039 0.98488559 0.97086887 0.94026007\n",
      " 0.87748037 0.83483915 0.85413324 0.77336823 0.77269273 0.88014017\n",
      " 0.84007431 0.89673225 0.85527316 0.83884995 0.74233725 0.82327113\n",
      " 0.78143207 0.6665963  0.7921557  0.64118044 0.68614371 0.66001013\n",
      " 0.65203074 0.58642236 0.56586169 0.66089673 0.65515494 0.70970193\n",
      " 0.66452757 0.69437642 0.69218104 0.63569197 0.65266402 0.63780292\n",
      " 0.7267162  0.71388162 0.74191506 0.75002111 0.77222832 0.83049059\n",
      " 0.8194292  0.8289707  0.8125475  0.78776492 0.75162543 0.78426074\n",
      " 0.77974331 0.81326522 0.8141096  0.79473106 0.83336148 0.85898843\n",
      " 0.83901883 0.85628641 0.87486279 0.88782403 0.90095415 0.92793211\n",
      " 0.948535   0.93333615 0.91746179 0.92544119 0.91771511 0.9483239\n",
      " 0.94064004 0.96635143 0.9563033  0.96491598 1.00232732 1.01708066\n",
      " 1.03594148 1.0564791  1.07740641 1.0981071 ]\n",
      "6 day input [[1.1182573]]\n",
      " 7 day input [0.92877649 0.95676771 0.93869797 0.93304061 0.94950604 0.96424048\n",
      " 0.95512117 0.95989192 0.96635143 0.96246728 0.92295027 0.9598497\n",
      " 0.98792536 0.98594106 0.92531453 0.92172591 0.96474711 0.97572406\n",
      " 0.99159841 0.96972895 0.97614625 0.96795575 1.         0.99016297\n",
      " 0.99050072 0.96538039 0.98488559 0.97086887 0.94026007 0.87748037\n",
      " 0.83483915 0.85413324 0.77336823 0.77269273 0.88014017 0.84007431\n",
      " 0.89673225 0.85527316 0.83884995 0.74233725 0.82327113 0.78143207\n",
      " 0.6665963  0.7921557  0.64118044 0.68614371 0.66001013 0.65203074\n",
      " 0.58642236 0.56586169 0.66089673 0.65515494 0.70970193 0.66452757\n",
      " 0.69437642 0.69218104 0.63569197 0.65266402 0.63780292 0.7267162\n",
      " 0.71388162 0.74191506 0.75002111 0.77222832 0.83049059 0.8194292\n",
      " 0.8289707  0.8125475  0.78776492 0.75162543 0.78426074 0.77974331\n",
      " 0.81326522 0.8141096  0.79473106 0.83336148 0.85898843 0.83901883\n",
      " 0.85628641 0.87486279 0.88782403 0.90095415 0.92793211 0.948535\n",
      " 0.93333615 0.91746179 0.92544119 0.91771511 0.9483239  0.94064004\n",
      " 0.96635143 0.9563033  0.96491598 1.00232732 1.01708066 1.03594148\n",
      " 1.0564791  1.07740641 1.0981071  1.11825728]\n",
      "7 day input [[1.1376619]]\n",
      " 8 day input [0.95676771 0.93869797 0.93304061 0.94950604 0.96424048 0.95512117\n",
      " 0.95989192 0.96635143 0.96246728 0.92295027 0.9598497  0.98792536\n",
      " 0.98594106 0.92531453 0.92172591 0.96474711 0.97572406 0.99159841\n",
      " 0.96972895 0.97614625 0.96795575 1.         0.99016297 0.99050072\n",
      " 0.96538039 0.98488559 0.97086887 0.94026007 0.87748037 0.83483915\n",
      " 0.85413324 0.77336823 0.77269273 0.88014017 0.84007431 0.89673225\n",
      " 0.85527316 0.83884995 0.74233725 0.82327113 0.78143207 0.6665963\n",
      " 0.7921557  0.64118044 0.68614371 0.66001013 0.65203074 0.58642236\n",
      " 0.56586169 0.66089673 0.65515494 0.70970193 0.66452757 0.69437642\n",
      " 0.69218104 0.63569197 0.65266402 0.63780292 0.7267162  0.71388162\n",
      " 0.74191506 0.75002111 0.77222832 0.83049059 0.8194292  0.8289707\n",
      " 0.8125475  0.78776492 0.75162543 0.78426074 0.77974331 0.81326522\n",
      " 0.8141096  0.79473106 0.83336148 0.85898843 0.83901883 0.85628641\n",
      " 0.87486279 0.88782403 0.90095415 0.92793211 0.948535   0.93333615\n",
      " 0.91746179 0.92544119 0.91771511 0.9483239  0.94064004 0.96635143\n",
      " 0.9563033  0.96491598 1.00232732 1.01708066 1.03594148 1.0564791\n",
      " 1.07740641 1.0981071  1.11825728 1.13766193]\n",
      "8 day input [[1.156209]]\n",
      " 9 day input [0.93869797 0.93304061 0.94950604 0.96424048 0.95512117 0.95989192\n",
      " 0.96635143 0.96246728 0.92295027 0.9598497  0.98792536 0.98594106\n",
      " 0.92531453 0.92172591 0.96474711 0.97572406 0.99159841 0.96972895\n",
      " 0.97614625 0.96795575 1.         0.99016297 0.99050072 0.96538039\n",
      " 0.98488559 0.97086887 0.94026007 0.87748037 0.83483915 0.85413324\n",
      " 0.77336823 0.77269273 0.88014017 0.84007431 0.89673225 0.85527316\n",
      " 0.83884995 0.74233725 0.82327113 0.78143207 0.6665963  0.7921557\n",
      " 0.64118044 0.68614371 0.66001013 0.65203074 0.58642236 0.56586169\n",
      " 0.66089673 0.65515494 0.70970193 0.66452757 0.69437642 0.69218104\n",
      " 0.63569197 0.65266402 0.63780292 0.7267162  0.71388162 0.74191506\n",
      " 0.75002111 0.77222832 0.83049059 0.8194292  0.8289707  0.8125475\n",
      " 0.78776492 0.75162543 0.78426074 0.77974331 0.81326522 0.8141096\n",
      " 0.79473106 0.83336148 0.85898843 0.83901883 0.85628641 0.87486279\n",
      " 0.88782403 0.90095415 0.92793211 0.948535   0.93333615 0.91746179\n",
      " 0.92544119 0.91771511 0.9483239  0.94064004 0.96635143 0.9563033\n",
      " 0.96491598 1.00232732 1.01708066 1.03594148 1.0564791  1.07740641\n",
      " 1.0981071  1.11825728 1.13766193 1.15620899]\n"
     ]
    },
    {
     "name": "stdout",
     "output_type": "stream",
     "text": [
      "9 day input [[1.173854]]\n",
      " 10 day input [0.93304061 0.94950604 0.96424048 0.95512117 0.95989192 0.96635143\n",
      " 0.96246728 0.92295027 0.9598497  0.98792536 0.98594106 0.92531453\n",
      " 0.92172591 0.96474711 0.97572406 0.99159841 0.96972895 0.97614625\n",
      " 0.96795575 1.         0.99016297 0.99050072 0.96538039 0.98488559\n",
      " 0.97086887 0.94026007 0.87748037 0.83483915 0.85413324 0.77336823\n",
      " 0.77269273 0.88014017 0.84007431 0.89673225 0.85527316 0.83884995\n",
      " 0.74233725 0.82327113 0.78143207 0.6665963  0.7921557  0.64118044\n",
      " 0.68614371 0.66001013 0.65203074 0.58642236 0.56586169 0.66089673\n",
      " 0.65515494 0.70970193 0.66452757 0.69437642 0.69218104 0.63569197\n",
      " 0.65266402 0.63780292 0.7267162  0.71388162 0.74191506 0.75002111\n",
      " 0.77222832 0.83049059 0.8194292  0.8289707  0.8125475  0.78776492\n",
      " 0.75162543 0.78426074 0.77974331 0.81326522 0.8141096  0.79473106\n",
      " 0.83336148 0.85898843 0.83901883 0.85628641 0.87486279 0.88782403\n",
      " 0.90095415 0.92793211 0.948535   0.93333615 0.91746179 0.92544119\n",
      " 0.91771511 0.9483239  0.94064004 0.96635143 0.9563033  0.96491598\n",
      " 1.00232732 1.01708066 1.03594148 1.0564791  1.07740641 1.0981071\n",
      " 1.11825728 1.13766193 1.15620899 1.17385399]\n",
      "10 day input [[1.1906097]]\n",
      " 11 day input [0.94950604 0.96424048 0.95512117 0.95989192 0.96635143 0.96246728\n",
      " 0.92295027 0.9598497  0.98792536 0.98594106 0.92531453 0.92172591\n",
      " 0.96474711 0.97572406 0.99159841 0.96972895 0.97614625 0.96795575\n",
      " 1.         0.99016297 0.99050072 0.96538039 0.98488559 0.97086887\n",
      " 0.94026007 0.87748037 0.83483915 0.85413324 0.77336823 0.77269273\n",
      " 0.88014017 0.84007431 0.89673225 0.85527316 0.83884995 0.74233725\n",
      " 0.82327113 0.78143207 0.6665963  0.7921557  0.64118044 0.68614371\n",
      " 0.66001013 0.65203074 0.58642236 0.56586169 0.66089673 0.65515494\n",
      " 0.70970193 0.66452757 0.69437642 0.69218104 0.63569197 0.65266402\n",
      " 0.63780292 0.7267162  0.71388162 0.74191506 0.75002111 0.77222832\n",
      " 0.83049059 0.8194292  0.8289707  0.8125475  0.78776492 0.75162543\n",
      " 0.78426074 0.77974331 0.81326522 0.8141096  0.79473106 0.83336148\n",
      " 0.85898843 0.83901883 0.85628641 0.87486279 0.88782403 0.90095415\n",
      " 0.92793211 0.948535   0.93333615 0.91746179 0.92544119 0.91771511\n",
      " 0.9483239  0.94064004 0.96635143 0.9563033  0.96491598 1.00232732\n",
      " 1.01708066 1.03594148 1.0564791  1.07740641 1.0981071  1.11825728\n",
      " 1.13766193 1.15620899 1.17385399 1.19060969]\n",
      "11 day input [[1.2065332]]\n",
      " 12 day input [0.96424048 0.95512117 0.95989192 0.96635143 0.96246728 0.92295027\n",
      " 0.9598497  0.98792536 0.98594106 0.92531453 0.92172591 0.96474711\n",
      " 0.97572406 0.99159841 0.96972895 0.97614625 0.96795575 1.\n",
      " 0.99016297 0.99050072 0.96538039 0.98488559 0.97086887 0.94026007\n",
      " 0.87748037 0.83483915 0.85413324 0.77336823 0.77269273 0.88014017\n",
      " 0.84007431 0.89673225 0.85527316 0.83884995 0.74233725 0.82327113\n",
      " 0.78143207 0.6665963  0.7921557  0.64118044 0.68614371 0.66001013\n",
      " 0.65203074 0.58642236 0.56586169 0.66089673 0.65515494 0.70970193\n",
      " 0.66452757 0.69437642 0.69218104 0.63569197 0.65266402 0.63780292\n",
      " 0.7267162  0.71388162 0.74191506 0.75002111 0.77222832 0.83049059\n",
      " 0.8194292  0.8289707  0.8125475  0.78776492 0.75162543 0.78426074\n",
      " 0.77974331 0.81326522 0.8141096  0.79473106 0.83336148 0.85898843\n",
      " 0.83901883 0.85628641 0.87486279 0.88782403 0.90095415 0.92793211\n",
      " 0.948535   0.93333615 0.91746179 0.92544119 0.91771511 0.9483239\n",
      " 0.94064004 0.96635143 0.9563033  0.96491598 1.00232732 1.01708066\n",
      " 1.03594148 1.0564791  1.07740641 1.0981071  1.11825728 1.13766193\n",
      " 1.15620899 1.17385399 1.19060969 1.20653319]\n",
      "12 day input [[1.2217118]]\n",
      " 13 day input [0.95512117 0.95989192 0.96635143 0.96246728 0.92295027 0.9598497\n",
      " 0.98792536 0.98594106 0.92531453 0.92172591 0.96474711 0.97572406\n",
      " 0.99159841 0.96972895 0.97614625 0.96795575 1.         0.99016297\n",
      " 0.99050072 0.96538039 0.98488559 0.97086887 0.94026007 0.87748037\n",
      " 0.83483915 0.85413324 0.77336823 0.77269273 0.88014017 0.84007431\n",
      " 0.89673225 0.85527316 0.83884995 0.74233725 0.82327113 0.78143207\n",
      " 0.6665963  0.7921557  0.64118044 0.68614371 0.66001013 0.65203074\n",
      " 0.58642236 0.56586169 0.66089673 0.65515494 0.70970193 0.66452757\n",
      " 0.69437642 0.69218104 0.63569197 0.65266402 0.63780292 0.7267162\n",
      " 0.71388162 0.74191506 0.75002111 0.77222832 0.83049059 0.8194292\n",
      " 0.8289707  0.8125475  0.78776492 0.75162543 0.78426074 0.77974331\n",
      " 0.81326522 0.8141096  0.79473106 0.83336148 0.85898843 0.83901883\n",
      " 0.85628641 0.87486279 0.88782403 0.90095415 0.92793211 0.948535\n",
      " 0.93333615 0.91746179 0.92544119 0.91771511 0.9483239  0.94064004\n",
      " 0.96635143 0.9563033  0.96491598 1.00232732 1.01708066 1.03594148\n",
      " 1.0564791  1.07740641 1.0981071  1.11825728 1.13766193 1.15620899\n",
      " 1.17385399 1.19060969 1.20653319 1.22171175]\n",
      "13 day input [[1.2362477]]\n",
      " 14 day input [0.95989192 0.96635143 0.96246728 0.92295027 0.9598497  0.98792536\n",
      " 0.98594106 0.92531453 0.92172591 0.96474711 0.97572406 0.99159841\n",
      " 0.96972895 0.97614625 0.96795575 1.         0.99016297 0.99050072\n",
      " 0.96538039 0.98488559 0.97086887 0.94026007 0.87748037 0.83483915\n",
      " 0.85413324 0.77336823 0.77269273 0.88014017 0.84007431 0.89673225\n",
      " 0.85527316 0.83884995 0.74233725 0.82327113 0.78143207 0.6665963\n",
      " 0.7921557  0.64118044 0.68614371 0.66001013 0.65203074 0.58642236\n",
      " 0.56586169 0.66089673 0.65515494 0.70970193 0.66452757 0.69437642\n",
      " 0.69218104 0.63569197 0.65266402 0.63780292 0.7267162  0.71388162\n",
      " 0.74191506 0.75002111 0.77222832 0.83049059 0.8194292  0.8289707\n",
      " 0.8125475  0.78776492 0.75162543 0.78426074 0.77974331 0.81326522\n",
      " 0.8141096  0.79473106 0.83336148 0.85898843 0.83901883 0.85628641\n",
      " 0.87486279 0.88782403 0.90095415 0.92793211 0.948535   0.93333615\n",
      " 0.91746179 0.92544119 0.91771511 0.9483239  0.94064004 0.96635143\n",
      " 0.9563033  0.96491598 1.00232732 1.01708066 1.03594148 1.0564791\n",
      " 1.07740641 1.0981071  1.11825728 1.13766193 1.15620899 1.17385399\n",
      " 1.19060969 1.20653319 1.22171175 1.23624766]\n",
      "14 day input [[1.2502463]]\n",
      " 15 day input [0.96635143 0.96246728 0.92295027 0.9598497  0.98792536 0.98594106\n",
      " 0.92531453 0.92172591 0.96474711 0.97572406 0.99159841 0.96972895\n",
      " 0.97614625 0.96795575 1.         0.99016297 0.99050072 0.96538039\n",
      " 0.98488559 0.97086887 0.94026007 0.87748037 0.83483915 0.85413324\n",
      " 0.77336823 0.77269273 0.88014017 0.84007431 0.89673225 0.85527316\n",
      " 0.83884995 0.74233725 0.82327113 0.78143207 0.6665963  0.7921557\n",
      " 0.64118044 0.68614371 0.66001013 0.65203074 0.58642236 0.56586169\n",
      " 0.66089673 0.65515494 0.70970193 0.66452757 0.69437642 0.69218104\n",
      " 0.63569197 0.65266402 0.63780292 0.7267162  0.71388162 0.74191506\n",
      " 0.75002111 0.77222832 0.83049059 0.8194292  0.8289707  0.8125475\n",
      " 0.78776492 0.75162543 0.78426074 0.77974331 0.81326522 0.8141096\n",
      " 0.79473106 0.83336148 0.85898843 0.83901883 0.85628641 0.87486279\n",
      " 0.88782403 0.90095415 0.92793211 0.948535   0.93333615 0.91746179\n",
      " 0.92544119 0.91771511 0.9483239  0.94064004 0.96635143 0.9563033\n",
      " 0.96491598 1.00232732 1.01708066 1.03594148 1.0564791  1.07740641\n",
      " 1.0981071  1.11825728 1.13766193 1.15620899 1.17385399 1.19060969\n",
      " 1.20653319 1.22171175 1.23624766 1.25024629]\n",
      "15 day input [[1.2638065]]\n",
      " 16 day input [0.96246728 0.92295027 0.9598497  0.98792536 0.98594106 0.92531453\n",
      " 0.92172591 0.96474711 0.97572406 0.99159841 0.96972895 0.97614625\n",
      " 0.96795575 1.         0.99016297 0.99050072 0.96538039 0.98488559\n",
      " 0.97086887 0.94026007 0.87748037 0.83483915 0.85413324 0.77336823\n",
      " 0.77269273 0.88014017 0.84007431 0.89673225 0.85527316 0.83884995\n",
      " 0.74233725 0.82327113 0.78143207 0.6665963  0.7921557  0.64118044\n",
      " 0.68614371 0.66001013 0.65203074 0.58642236 0.56586169 0.66089673\n",
      " 0.65515494 0.70970193 0.66452757 0.69437642 0.69218104 0.63569197\n",
      " 0.65266402 0.63780292 0.7267162  0.71388162 0.74191506 0.75002111\n",
      " 0.77222832 0.83049059 0.8194292  0.8289707  0.8125475  0.78776492\n",
      " 0.75162543 0.78426074 0.77974331 0.81326522 0.8141096  0.79473106\n",
      " 0.83336148 0.85898843 0.83901883 0.85628641 0.87486279 0.88782403\n",
      " 0.90095415 0.92793211 0.948535   0.93333615 0.91746179 0.92544119\n",
      " 0.91771511 0.9483239  0.94064004 0.96635143 0.9563033  0.96491598\n",
      " 1.00232732 1.01708066 1.03594148 1.0564791  1.07740641 1.0981071\n",
      " 1.11825728 1.13766193 1.15620899 1.17385399 1.19060969 1.20653319\n",
      " 1.22171175 1.23624766 1.25024629 1.26380646]\n",
      "16 day input [[1.2770131]]\n",
      " 17 day input [0.92295027 0.9598497  0.98792536 0.98594106 0.92531453 0.92172591\n",
      " 0.96474711 0.97572406 0.99159841 0.96972895 0.97614625 0.96795575\n",
      " 1.         0.99016297 0.99050072 0.96538039 0.98488559 0.97086887\n",
      " 0.94026007 0.87748037 0.83483915 0.85413324 0.77336823 0.77269273\n",
      " 0.88014017 0.84007431 0.89673225 0.85527316 0.83884995 0.74233725\n",
      " 0.82327113 0.78143207 0.6665963  0.7921557  0.64118044 0.68614371\n",
      " 0.66001013 0.65203074 0.58642236 0.56586169 0.66089673 0.65515494\n",
      " 0.70970193 0.66452757 0.69437642 0.69218104 0.63569197 0.65266402\n",
      " 0.63780292 0.7267162  0.71388162 0.74191506 0.75002111 0.77222832\n",
      " 0.83049059 0.8194292  0.8289707  0.8125475  0.78776492 0.75162543\n",
      " 0.78426074 0.77974331 0.81326522 0.8141096  0.79473106 0.83336148\n",
      " 0.85898843 0.83901883 0.85628641 0.87486279 0.88782403 0.90095415\n",
      " 0.92793211 0.948535   0.93333615 0.91746179 0.92544119 0.91771511\n",
      " 0.9483239  0.94064004 0.96635143 0.9563033  0.96491598 1.00232732\n",
      " 1.01708066 1.03594148 1.0564791  1.07740641 1.0981071  1.11825728\n",
      " 1.13766193 1.15620899 1.17385399 1.19060969 1.20653319 1.22171175\n",
      " 1.23624766 1.25024629 1.26380646 1.27701306]\n"
     ]
    },
    {
     "name": "stdout",
     "output_type": "stream",
     "text": [
      "17 day input [[1.2899334]]\n",
      " 18 day input [0.9598497  0.98792536 0.98594106 0.92531453 0.92172591 0.96474711\n",
      " 0.97572406 0.99159841 0.96972895 0.97614625 0.96795575 1.\n",
      " 0.99016297 0.99050072 0.96538039 0.98488559 0.97086887 0.94026007\n",
      " 0.87748037 0.83483915 0.85413324 0.77336823 0.77269273 0.88014017\n",
      " 0.84007431 0.89673225 0.85527316 0.83884995 0.74233725 0.82327113\n",
      " 0.78143207 0.6665963  0.7921557  0.64118044 0.68614371 0.66001013\n",
      " 0.65203074 0.58642236 0.56586169 0.66089673 0.65515494 0.70970193\n",
      " 0.66452757 0.69437642 0.69218104 0.63569197 0.65266402 0.63780292\n",
      " 0.7267162  0.71388162 0.74191506 0.75002111 0.77222832 0.83049059\n",
      " 0.8194292  0.8289707  0.8125475  0.78776492 0.75162543 0.78426074\n",
      " 0.77974331 0.81326522 0.8141096  0.79473106 0.83336148 0.85898843\n",
      " 0.83901883 0.85628641 0.87486279 0.88782403 0.90095415 0.92793211\n",
      " 0.948535   0.93333615 0.91746179 0.92544119 0.91771511 0.9483239\n",
      " 0.94064004 0.96635143 0.9563033  0.96491598 1.00232732 1.01708066\n",
      " 1.03594148 1.0564791  1.07740641 1.0981071  1.11825728 1.13766193\n",
      " 1.15620899 1.17385399 1.19060969 1.20653319 1.22171175 1.23624766\n",
      " 1.25024629 1.26380646 1.27701306 1.28993344]\n",
      "18 day input [[1.3026159]]\n",
      " 19 day input [0.98792536 0.98594106 0.92531453 0.92172591 0.96474711 0.97572406\n",
      " 0.99159841 0.96972895 0.97614625 0.96795575 1.         0.99016297\n",
      " 0.99050072 0.96538039 0.98488559 0.97086887 0.94026007 0.87748037\n",
      " 0.83483915 0.85413324 0.77336823 0.77269273 0.88014017 0.84007431\n",
      " 0.89673225 0.85527316 0.83884995 0.74233725 0.82327113 0.78143207\n",
      " 0.6665963  0.7921557  0.64118044 0.68614371 0.66001013 0.65203074\n",
      " 0.58642236 0.56586169 0.66089673 0.65515494 0.70970193 0.66452757\n",
      " 0.69437642 0.69218104 0.63569197 0.65266402 0.63780292 0.7267162\n",
      " 0.71388162 0.74191506 0.75002111 0.77222832 0.83049059 0.8194292\n",
      " 0.8289707  0.8125475  0.78776492 0.75162543 0.78426074 0.77974331\n",
      " 0.81326522 0.8141096  0.79473106 0.83336148 0.85898843 0.83901883\n",
      " 0.85628641 0.87486279 0.88782403 0.90095415 0.92793211 0.948535\n",
      " 0.93333615 0.91746179 0.92544119 0.91771511 0.9483239  0.94064004\n",
      " 0.96635143 0.9563033  0.96491598 1.00232732 1.01708066 1.03594148\n",
      " 1.0564791  1.07740641 1.0981071  1.11825728 1.13766193 1.15620899\n",
      " 1.17385399 1.19060969 1.20653319 1.22171175 1.23624766 1.25024629\n",
      " 1.26380646 1.27701306 1.28993344 1.30261588]\n",
      "19 day input [[1.31509]]\n",
      " 20 day input [0.98594106 0.92531453 0.92172591 0.96474711 0.97572406 0.99159841\n",
      " 0.96972895 0.97614625 0.96795575 1.         0.99016297 0.99050072\n",
      " 0.96538039 0.98488559 0.97086887 0.94026007 0.87748037 0.83483915\n",
      " 0.85413324 0.77336823 0.77269273 0.88014017 0.84007431 0.89673225\n",
      " 0.85527316 0.83884995 0.74233725 0.82327113 0.78143207 0.6665963\n",
      " 0.7921557  0.64118044 0.68614371 0.66001013 0.65203074 0.58642236\n",
      " 0.56586169 0.66089673 0.65515494 0.70970193 0.66452757 0.69437642\n",
      " 0.69218104 0.63569197 0.65266402 0.63780292 0.7267162  0.71388162\n",
      " 0.74191506 0.75002111 0.77222832 0.83049059 0.8194292  0.8289707\n",
      " 0.8125475  0.78776492 0.75162543 0.78426074 0.77974331 0.81326522\n",
      " 0.8141096  0.79473106 0.83336148 0.85898843 0.83901883 0.85628641\n",
      " 0.87486279 0.88782403 0.90095415 0.92793211 0.948535   0.93333615\n",
      " 0.91746179 0.92544119 0.91771511 0.9483239  0.94064004 0.96635143\n",
      " 0.9563033  0.96491598 1.00232732 1.01708066 1.03594148 1.0564791\n",
      " 1.07740641 1.0981071  1.11825728 1.13766193 1.15620899 1.17385399\n",
      " 1.19060969 1.20653319 1.22171175 1.23624766 1.25024629 1.26380646\n",
      " 1.27701306 1.28993344 1.30261588 1.31508994]\n",
      "20 day input [[1.3273683]]\n",
      " 21 day input [0.92531453 0.92172591 0.96474711 0.97572406 0.99159841 0.96972895\n",
      " 0.97614625 0.96795575 1.         0.99016297 0.99050072 0.96538039\n",
      " 0.98488559 0.97086887 0.94026007 0.87748037 0.83483915 0.85413324\n",
      " 0.77336823 0.77269273 0.88014017 0.84007431 0.89673225 0.85527316\n",
      " 0.83884995 0.74233725 0.82327113 0.78143207 0.6665963  0.7921557\n",
      " 0.64118044 0.68614371 0.66001013 0.65203074 0.58642236 0.56586169\n",
      " 0.66089673 0.65515494 0.70970193 0.66452757 0.69437642 0.69218104\n",
      " 0.63569197 0.65266402 0.63780292 0.7267162  0.71388162 0.74191506\n",
      " 0.75002111 0.77222832 0.83049059 0.8194292  0.8289707  0.8125475\n",
      " 0.78776492 0.75162543 0.78426074 0.77974331 0.81326522 0.8141096\n",
      " 0.79473106 0.83336148 0.85898843 0.83901883 0.85628641 0.87486279\n",
      " 0.88782403 0.90095415 0.92793211 0.948535   0.93333615 0.91746179\n",
      " 0.92544119 0.91771511 0.9483239  0.94064004 0.96635143 0.9563033\n",
      " 0.96491598 1.00232732 1.01708066 1.03594148 1.0564791  1.07740641\n",
      " 1.0981071  1.11825728 1.13766193 1.15620899 1.17385399 1.19060969\n",
      " 1.20653319 1.22171175 1.23624766 1.25024629 1.26380646 1.27701306\n",
      " 1.28993344 1.30261588 1.31508994 1.32736826]\n",
      "21 day input [[1.3394499]]\n",
      " 22 day input [0.92172591 0.96474711 0.97572406 0.99159841 0.96972895 0.97614625\n",
      " 0.96795575 1.         0.99016297 0.99050072 0.96538039 0.98488559\n",
      " 0.97086887 0.94026007 0.87748037 0.83483915 0.85413324 0.77336823\n",
      " 0.77269273 0.88014017 0.84007431 0.89673225 0.85527316 0.83884995\n",
      " 0.74233725 0.82327113 0.78143207 0.6665963  0.7921557  0.64118044\n",
      " 0.68614371 0.66001013 0.65203074 0.58642236 0.56586169 0.66089673\n",
      " 0.65515494 0.70970193 0.66452757 0.69437642 0.69218104 0.63569197\n",
      " 0.65266402 0.63780292 0.7267162  0.71388162 0.74191506 0.75002111\n",
      " 0.77222832 0.83049059 0.8194292  0.8289707  0.8125475  0.78776492\n",
      " 0.75162543 0.78426074 0.77974331 0.81326522 0.8141096  0.79473106\n",
      " 0.83336148 0.85898843 0.83901883 0.85628641 0.87486279 0.88782403\n",
      " 0.90095415 0.92793211 0.948535   0.93333615 0.91746179 0.92544119\n",
      " 0.91771511 0.9483239  0.94064004 0.96635143 0.9563033  0.96491598\n",
      " 1.00232732 1.01708066 1.03594148 1.0564791  1.07740641 1.0981071\n",
      " 1.11825728 1.13766193 1.15620899 1.17385399 1.19060969 1.20653319\n",
      " 1.22171175 1.23624766 1.25024629 1.26380646 1.27701306 1.28993344\n",
      " 1.30261588 1.31508994 1.32736826 1.33944988]\n",
      "22 day input [[1.3513238]]\n",
      " 23 day input [0.96474711 0.97572406 0.99159841 0.96972895 0.97614625 0.96795575\n",
      " 1.         0.99016297 0.99050072 0.96538039 0.98488559 0.97086887\n",
      " 0.94026007 0.87748037 0.83483915 0.85413324 0.77336823 0.77269273\n",
      " 0.88014017 0.84007431 0.89673225 0.85527316 0.83884995 0.74233725\n",
      " 0.82327113 0.78143207 0.6665963  0.7921557  0.64118044 0.68614371\n",
      " 0.66001013 0.65203074 0.58642236 0.56586169 0.66089673 0.65515494\n",
      " 0.70970193 0.66452757 0.69437642 0.69218104 0.63569197 0.65266402\n",
      " 0.63780292 0.7267162  0.71388162 0.74191506 0.75002111 0.77222832\n",
      " 0.83049059 0.8194292  0.8289707  0.8125475  0.78776492 0.75162543\n",
      " 0.78426074 0.77974331 0.81326522 0.8141096  0.79473106 0.83336148\n",
      " 0.85898843 0.83901883 0.85628641 0.87486279 0.88782403 0.90095415\n",
      " 0.92793211 0.948535   0.93333615 0.91746179 0.92544119 0.91771511\n",
      " 0.9483239  0.94064004 0.96635143 0.9563033  0.96491598 1.00232732\n",
      " 1.01708066 1.03594148 1.0564791  1.07740641 1.0981071  1.11825728\n",
      " 1.13766193 1.15620899 1.17385399 1.19060969 1.20653319 1.22171175\n",
      " 1.23624766 1.25024629 1.26380646 1.27701306 1.28993344 1.30261588\n",
      " 1.31508994 1.32736826 1.33944988 1.35132384]\n",
      "23 day input [[1.362972]]\n",
      " 24 day input [0.97572406 0.99159841 0.96972895 0.97614625 0.96795575 1.\n",
      " 0.99016297 0.99050072 0.96538039 0.98488559 0.97086887 0.94026007\n",
      " 0.87748037 0.83483915 0.85413324 0.77336823 0.77269273 0.88014017\n",
      " 0.84007431 0.89673225 0.85527316 0.83884995 0.74233725 0.82327113\n",
      " 0.78143207 0.6665963  0.7921557  0.64118044 0.68614371 0.66001013\n",
      " 0.65203074 0.58642236 0.56586169 0.66089673 0.65515494 0.70970193\n",
      " 0.66452757 0.69437642 0.69218104 0.63569197 0.65266402 0.63780292\n",
      " 0.7267162  0.71388162 0.74191506 0.75002111 0.77222832 0.83049059\n",
      " 0.8194292  0.8289707  0.8125475  0.78776492 0.75162543 0.78426074\n",
      " 0.77974331 0.81326522 0.8141096  0.79473106 0.83336148 0.85898843\n",
      " 0.83901883 0.85628641 0.87486279 0.88782403 0.90095415 0.92793211\n",
      " 0.948535   0.93333615 0.91746179 0.92544119 0.91771511 0.9483239\n",
      " 0.94064004 0.96635143 0.9563033  0.96491598 1.00232732 1.01708066\n",
      " 1.03594148 1.0564791  1.07740641 1.0981071  1.11825728 1.13766193\n",
      " 1.15620899 1.17385399 1.19060969 1.20653319 1.22171175 1.23624766\n",
      " 1.25024629 1.26380646 1.27701306 1.28993344 1.30261588 1.31508994\n",
      " 1.32736826 1.33944988 1.35132384 1.36297202]\n",
      "24 day input [[1.374373]]\n",
      " 25 day input [0.99159841 0.96972895 0.97614625 0.96795575 1.         0.99016297\n",
      " 0.99050072 0.96538039 0.98488559 0.97086887 0.94026007 0.87748037\n",
      " 0.83483915 0.85413324 0.77336823 0.77269273 0.88014017 0.84007431\n",
      " 0.89673225 0.85527316 0.83884995 0.74233725 0.82327113 0.78143207\n",
      " 0.6665963  0.7921557  0.64118044 0.68614371 0.66001013 0.65203074\n",
      " 0.58642236 0.56586169 0.66089673 0.65515494 0.70970193 0.66452757\n",
      " 0.69437642 0.69218104 0.63569197 0.65266402 0.63780292 0.7267162\n",
      " 0.71388162 0.74191506 0.75002111 0.77222832 0.83049059 0.8194292\n",
      " 0.8289707  0.8125475  0.78776492 0.75162543 0.78426074 0.77974331\n",
      " 0.81326522 0.8141096  0.79473106 0.83336148 0.85898843 0.83901883\n",
      " 0.85628641 0.87486279 0.88782403 0.90095415 0.92793211 0.948535\n",
      " 0.93333615 0.91746179 0.92544119 0.91771511 0.9483239  0.94064004\n",
      " 0.96635143 0.9563033  0.96491598 1.00232732 1.01708066 1.03594148\n",
      " 1.0564791  1.07740641 1.0981071  1.11825728 1.13766193 1.15620899\n",
      " 1.17385399 1.19060969 1.20653319 1.22171175 1.23624766 1.25024629\n",
      " 1.26380646 1.27701306 1.28993344 1.30261588 1.31508994 1.32736826\n",
      " 1.33944988 1.35132384 1.36297202 1.37437296]\n",
      "25 day input [[1.3855041]]\n",
      " 26 day input [0.96972895 0.97614625 0.96795575 1.         0.99016297 0.99050072\n",
      " 0.96538039 0.98488559 0.97086887 0.94026007 0.87748037 0.83483915\n",
      " 0.85413324 0.77336823 0.77269273 0.88014017 0.84007431 0.89673225\n",
      " 0.85527316 0.83884995 0.74233725 0.82327113 0.78143207 0.6665963\n",
      " 0.7921557  0.64118044 0.68614371 0.66001013 0.65203074 0.58642236\n",
      " 0.56586169 0.66089673 0.65515494 0.70970193 0.66452757 0.69437642\n",
      " 0.69218104 0.63569197 0.65266402 0.63780292 0.7267162  0.71388162\n",
      " 0.74191506 0.75002111 0.77222832 0.83049059 0.8194292  0.8289707\n",
      " 0.8125475  0.78776492 0.75162543 0.78426074 0.77974331 0.81326522\n",
      " 0.8141096  0.79473106 0.83336148 0.85898843 0.83901883 0.85628641\n",
      " 0.87486279 0.88782403 0.90095415 0.92793211 0.948535   0.93333615\n",
      " 0.91746179 0.92544119 0.91771511 0.9483239  0.94064004 0.96635143\n",
      " 0.9563033  0.96491598 1.00232732 1.01708066 1.03594148 1.0564791\n",
      " 1.07740641 1.0981071  1.11825728 1.13766193 1.15620899 1.17385399\n",
      " 1.19060969 1.20653319 1.22171175 1.23624766 1.25024629 1.26380646\n",
      " 1.27701306 1.28993344 1.30261588 1.31508994 1.32736826 1.33944988\n",
      " 1.35132384 1.36297202 1.37437296 1.38550413]\n"
     ]
    },
    {
     "name": "stdout",
     "output_type": "stream",
     "text": [
      "26 day input [[1.3963451]]\n",
      " 27 day input [0.97614625 0.96795575 1.         0.99016297 0.99050072 0.96538039\n",
      " 0.98488559 0.97086887 0.94026007 0.87748037 0.83483915 0.85413324\n",
      " 0.77336823 0.77269273 0.88014017 0.84007431 0.89673225 0.85527316\n",
      " 0.83884995 0.74233725 0.82327113 0.78143207 0.6665963  0.7921557\n",
      " 0.64118044 0.68614371 0.66001013 0.65203074 0.58642236 0.56586169\n",
      " 0.66089673 0.65515494 0.70970193 0.66452757 0.69437642 0.69218104\n",
      " 0.63569197 0.65266402 0.63780292 0.7267162  0.71388162 0.74191506\n",
      " 0.75002111 0.77222832 0.83049059 0.8194292  0.8289707  0.8125475\n",
      " 0.78776492 0.75162543 0.78426074 0.77974331 0.81326522 0.8141096\n",
      " 0.79473106 0.83336148 0.85898843 0.83901883 0.85628641 0.87486279\n",
      " 0.88782403 0.90095415 0.92793211 0.948535   0.93333615 0.91746179\n",
      " 0.92544119 0.91771511 0.9483239  0.94064004 0.96635143 0.9563033\n",
      " 0.96491598 1.00232732 1.01708066 1.03594148 1.0564791  1.07740641\n",
      " 1.0981071  1.11825728 1.13766193 1.15620899 1.17385399 1.19060969\n",
      " 1.20653319 1.22171175 1.23624766 1.25024629 1.26380646 1.27701306\n",
      " 1.28993344 1.30261588 1.31508994 1.32736826 1.33944988 1.35132384\n",
      " 1.36297202 1.37437296 1.38550413 1.39634514]\n",
      "27 day input [[1.4068778]]\n",
      " 28 day input [0.96795575 1.         0.99016297 0.99050072 0.96538039 0.98488559\n",
      " 0.97086887 0.94026007 0.87748037 0.83483915 0.85413324 0.77336823\n",
      " 0.77269273 0.88014017 0.84007431 0.89673225 0.85527316 0.83884995\n",
      " 0.74233725 0.82327113 0.78143207 0.6665963  0.7921557  0.64118044\n",
      " 0.68614371 0.66001013 0.65203074 0.58642236 0.56586169 0.66089673\n",
      " 0.65515494 0.70970193 0.66452757 0.69437642 0.69218104 0.63569197\n",
      " 0.65266402 0.63780292 0.7267162  0.71388162 0.74191506 0.75002111\n",
      " 0.77222832 0.83049059 0.8194292  0.8289707  0.8125475  0.78776492\n",
      " 0.75162543 0.78426074 0.77974331 0.81326522 0.8141096  0.79473106\n",
      " 0.83336148 0.85898843 0.83901883 0.85628641 0.87486279 0.88782403\n",
      " 0.90095415 0.92793211 0.948535   0.93333615 0.91746179 0.92544119\n",
      " 0.91771511 0.9483239  0.94064004 0.96635143 0.9563033  0.96491598\n",
      " 1.00232732 1.01708066 1.03594148 1.0564791  1.07740641 1.0981071\n",
      " 1.11825728 1.13766193 1.15620899 1.17385399 1.19060969 1.20653319\n",
      " 1.22171175 1.23624766 1.25024629 1.26380646 1.27701306 1.28993344\n",
      " 1.30261588 1.31508994 1.32736826 1.33944988 1.35132384 1.36297202\n",
      " 1.37437296 1.38550413 1.39634514 1.40687776]\n",
      "28 day input [[1.4170884]]\n",
      " 29 day input [1.         0.99016297 0.99050072 0.96538039 0.98488559 0.97086887\n",
      " 0.94026007 0.87748037 0.83483915 0.85413324 0.77336823 0.77269273\n",
      " 0.88014017 0.84007431 0.89673225 0.85527316 0.83884995 0.74233725\n",
      " 0.82327113 0.78143207 0.6665963  0.7921557  0.64118044 0.68614371\n",
      " 0.66001013 0.65203074 0.58642236 0.56586169 0.66089673 0.65515494\n",
      " 0.70970193 0.66452757 0.69437642 0.69218104 0.63569197 0.65266402\n",
      " 0.63780292 0.7267162  0.71388162 0.74191506 0.75002111 0.77222832\n",
      " 0.83049059 0.8194292  0.8289707  0.8125475  0.78776492 0.75162543\n",
      " 0.78426074 0.77974331 0.81326522 0.8141096  0.79473106 0.83336148\n",
      " 0.85898843 0.83901883 0.85628641 0.87486279 0.88782403 0.90095415\n",
      " 0.92793211 0.948535   0.93333615 0.91746179 0.92544119 0.91771511\n",
      " 0.9483239  0.94064004 0.96635143 0.9563033  0.96491598 1.00232732\n",
      " 1.01708066 1.03594148 1.0564791  1.07740641 1.0981071  1.11825728\n",
      " 1.13766193 1.15620899 1.17385399 1.19060969 1.20653319 1.22171175\n",
      " 1.23624766 1.25024629 1.26380646 1.27701306 1.28993344 1.30261588\n",
      " 1.31508994 1.32736826 1.33944988 1.35132384 1.36297202 1.37437296\n",
      " 1.38550413 1.39634514 1.40687776 1.41708839]\n",
      "29 day input [[1.4269677]]\n",
      "[[1.0023273229599], [1.0170806646347046], [1.035941481590271], [1.0564790964126587], [1.077406406402588], [1.098107099533081], [1.1182572841644287], [1.1376619338989258], [1.1562089920043945], [1.1738539934158325], [1.1906096935272217], [1.2065331935882568], [1.2217117547988892], [1.2362476587295532], [1.250246286392212], [1.2638064622879028], [1.2770130634307861], [1.289933443069458], [1.3026158809661865], [1.3150899410247803], [1.3273682594299316], [1.3394498825073242], [1.3513238430023193], [1.3629720211029053], [1.374372959136963], [1.385504126548767], [1.3963451385498047], [1.4068777561187744], [1.4170883893966675], [1.426967740058899]]\n"
     ]
    }
   ],
   "source": [
    "#prediction for the next 10 days\n",
    "from numpy import array\n",
    "lst_output=[]\n",
    "n_steps=100\n",
    "i=0\n",
    "while i<30:\n",
    "    if (len(temp_input)>100):\n",
    "        x_input=np.array(temp_input[1:])\n",
    "        print(\" {} day input {}\".format(i,x_input))\n",
    "        x_input=x_input.reshape(1,-1)\n",
    "        x_input=x_input.reshape((1,n_steps,1))\n",
    "        y_hat=model.predict(x_input,verbose=0)\n",
    "        print(\"{} day input {}\".format(i,y_hat))\n",
    "        temp_input.extend(y_hat[0].tolist())\n",
    "        temp_input=temp_input[1:]\n",
    "        lst_output.extend(y_hat.tolist())\n",
    "        i=i+1\n",
    "    else:\n",
    "        x_input=x_input.reshape((1,n_steps,1))\n",
    "        y_hat=model.predict(x_input,verbose=0)\n",
    "        print(y_hat[0])\n",
    "#         temp_input.extend(y_hat[0].tolist())\n",
    "        temp_input.extend(y_hat[0].tolist())\n",
    "        print(len(temp_input))\n",
    "\n",
    "     \n",
    "        lst_output.extend(y_hat.tolist())\n",
    "        i=i+1\n",
    "        \n",
    "        \n",
    "print(lst_output)"
   ]
  },
  {
   "cell_type": "code",
   "execution_count": 303,
   "metadata": {},
   "outputs": [],
   "source": [
    "day_new=np.arange(1,101)\n",
    "day_pred=np.arange(101,131)"
   ]
  },
  {
   "cell_type": "code",
   "execution_count": 304,
   "metadata": {},
   "outputs": [
    {
     "data": {
      "text/plain": [
       "array([  1,   2,   3,   4,   5,   6,   7,   8,   9,  10,  11,  12,  13,\n",
       "        14,  15,  16,  17,  18,  19,  20,  21,  22,  23,  24,  25,  26,\n",
       "        27,  28,  29,  30,  31,  32,  33,  34,  35,  36,  37,  38,  39,\n",
       "        40,  41,  42,  43,  44,  45,  46,  47,  48,  49,  50,  51,  52,\n",
       "        53,  54,  55,  56,  57,  58,  59,  60,  61,  62,  63,  64,  65,\n",
       "        66,  67,  68,  69,  70,  71,  72,  73,  74,  75,  76,  77,  78,\n",
       "        79,  80,  81,  82,  83,  84,  85,  86,  87,  88,  89,  90,  91,\n",
       "        92,  93,  94,  95,  96,  97,  98,  99, 100])"
      ]
     },
     "execution_count": 304,
     "metadata": {},
     "output_type": "execute_result"
    }
   ],
   "source": [
    "day_new"
   ]
  },
  {
   "cell_type": "code",
   "execution_count": 305,
   "metadata": {},
   "outputs": [],
   "source": [
    "import matplotlib.pyplot as plt"
   ]
  },
  {
   "cell_type": "code",
   "execution_count": 307,
   "metadata": {},
   "outputs": [
    {
     "data": {
      "text/plain": [
       "[<matplotlib.lines.Line2D at 0x16e3da18408>]"
      ]
     },
     "execution_count": 307,
     "metadata": {},
     "output_type": "execute_result"
    },
    {
     "data": {
      "image/png": "[encoded data removed]",
      "text/plain": [
       "<Figure size 432x288 with 1 Axes>"
      ]
     },
     "metadata": {
      "needs_background": "light"
     },
     "output_type": "display_data"
    }
   ],
   "source": [
    "plt.plot(day_new,scalar.inverse_transform(df1[1158:]))\n",
    "plt.plot(day_pred,scalar.inverse_transform(lst_output))"
   ]
  },
  {
   "cell_type": "code",
   "execution_count": 308,
   "metadata": {},
   "outputs": [
    {
     "data": {
      "text/plain": [
       "[<matplotlib.lines.Line2D at 0x16e3dc9ff08>]"
      ]
     },
     "execution_count": 308,
     "metadata": {},
     "output_type": "execute_result"
    },
    {
     "data": {
      "image/png": "[encoded data removed]",
      "text/plain": [
       "<Figure size 432x288 with 1 Axes>"
      ]
     },
     "metadata": {
      "needs_background": "light"
     },
     "output_type": "display_data"
    }
   ],
   "source": [
    "df3=df1.tolist()\n",
    "df3.extend(lst_output)\n",
    "plt.plot(df3[1200:])"
   ]
  },
  {
   "cell_type": "code",
   "execution_count": null,
   "metadata": {},
   "outputs": [],
   "source": [
    "df3=scalar.inverse_transform(df3).tolist()\n"
   ]
  },
  {
   "cell_type": "code",
   "execution_count": null,
   "metadata": {},
   "outputs": [],
   "source": []
  },
  {
   "cell_type": "code",
   "execution_count": null,
   "metadata": {},
   "outputs": [],
   "source": []
  }
 ],
 "metadata": {
  "kernelspec": {
   "display_name": "Python 3",
   "language": "python",
   "name": "python3"
  },
  "language_info": {
   "codemirror_mode": {
    "name": "ipython",
    "version": 3
   },
   "file_extension": ".py",
   "mimetype": "text/x-python",
   "name": "python",
   "nbconvert_exporter": "python",
   "pygments_lexer": "ipython3",
   "version": "3.7.4"
  }
 },
 "nbformat": 4,
 "nbformat_minor": 2
}
